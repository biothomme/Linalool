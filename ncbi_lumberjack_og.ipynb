{
  "nbformat": 4,
  "nbformat_minor": 0,
  "metadata": {
    "colab": {
      "name": "ncbi_lumberjack_2.ipynb",
      "provenance": [],
      "collapsed_sections": [],
      "include_colab_link": true
    },
    "kernelspec": {
      "name": "python3",
      "display_name": "Python 3"
    }
  },
  "cells": [
    {
      "cell_type": "markdown",
      "metadata": {
        "id": "view-in-github",
        "colab_type": "text"
      },
      "source": [
        "<a href=\"https://colab.research.google.com/github/biothomme/Linalool/blob/change_research/ncbi_lumberjack_og.ipynb\" target=\"_parent\"><img src=\"https://colab.research.google.com/assets/colab-badge.svg\" alt=\"Open In Colab\"/></a>"
      ]
    },
    {
      "cell_type": "markdown",
      "metadata": {
        "id": "oTz6BHxh85rC",
        "colab_type": "text"
      },
      "source": [
        "#NCBI Lumberjack\n",
        "###Uppsala, Dec 2019\n",
        "This script enables the datamining of the NCBI database for genes in monophyletic groups. Follow the blocks straight forward to gain your result. You can mine x gene entries per Genus/Species of your monophylum and download all sequences in a fasta-file together with 2 informative files:\n",
        "- <b>..._stat.csv:</b> includes all taxIDs (only on level genus/species) and Accession IDs for your gene within the monophylum.\n",
        "- <b>..._data.csv:</b> corresponds to your fasta file and includes very important data of the sequences\n",
        "<br> \n",
        "<br> \n",
        "\n"
      ]
    },
    {
      "cell_type": "markdown",
      "metadata": {
        "id": "fxSVqGIgsHtc",
        "colab_type": "text"
      },
      "source": [
        "#0 Usage\n",
        "This script works with the help of two powerful instutitions: biopython (https://biopython.org/wiki/Documentation) and through a wonderful backdoor to NCBI databases: the Entrez E-utilities service (https://www.ncbi.nlm.nih.gov/books/NBK25497/). If you use the sequence data for scientific purpose (and not only for fun ;-) ), please cite those sources properly (especially biopython requires a citation of Cock et al., 2009!"
      ]
    },
    {
      "cell_type": "markdown",
      "metadata": {
        "id": "EmS3wSJxmgXn",
        "colab_type": "text"
      },
      "source": [
        "#1 `ncbi_miner`"
      ]
    },
    {
      "cell_type": "markdown",
      "metadata": {
        "id": "Dbx6paTIvMLC",
        "colab_type": "text"
      },
      "source": [
        "At first biopython needs to be installed."
      ]
    },
    {
      "cell_type": "code",
      "metadata": {
        "id": "9jhrXDkepk1q",
        "colab_type": "code",
        "colab": {
          "base_uri": "https://localhost:8080/",
          "height": 139
        },
        "outputId": "8bb2a97f-a91d-49aa-b70c-3acbb99c001e"
      },
      "source": [
        "!pip install biopython"
      ],
      "execution_count": 2,
      "outputs": [
        {
          "output_type": "stream",
          "text": [
            "Collecting biopython\n",
            "\u001b[?25l  Downloading https://files.pythonhosted.org/packages/83/3d/e0c8a993dbea1136be90c31345aefc5babdd5046cd52f81c18fc3fdad865/biopython-1.76-cp36-cp36m-manylinux1_x86_64.whl (2.3MB)\n",
            "\u001b[K     |████████████████████████████████| 2.3MB 9.5MB/s \n",
            "\u001b[?25hRequirement already satisfied: numpy in /usr/local/lib/python3.6/dist-packages (from biopython) (1.17.4)\n",
            "Installing collected packages: biopython\n",
            "Successfully installed biopython-1.76\n"
          ],
          "name": "stdout"
        }
      ]
    },
    {
      "cell_type": "code",
      "metadata": {
        "id": "Gg8cPOoXm-o-",
        "colab_type": "code",
        "colab": {}
      },
      "source": [
        "#@title 1.1 The function {display-mode: 'form'}\n",
        "#@markdown Please execute this field. It contains the function `ncbi_miner`, which is the core of this notebook. \n",
        "#@markdown It feeds through the NCBI jungle like the hyperactive caterpillar of a leaf miner.\n",
        "\"\"\"\n",
        "Created on Tue Nov 26 09:29:22 2019\n",
        "\n",
        "@author: Thomsn\n",
        "\"\"\"\n",
        "\n",
        "__author__ = 'thomas m. huber'\n",
        "__email__ = ['thomas.huber@evobio.eu']\n",
        "\n",
        "def ncbi_miner(taxon_query,\n",
        "               gene_name,\n",
        "               gene_length,\n",
        "               my_mail,\n",
        "               outgroups = [],\n",
        "               coding_sequence = True,\n",
        "               exclude_query = None,\n",
        "               my_API_key = None,\n",
        "               tree_resolution = 'genus',\n",
        "               length_tolerance_percent = 20,\n",
        "               upper_tolerance = 2,\n",
        "               search_limit = 10000,\n",
        "               entries_per_genus = 1,\n",
        "               entries_per_tax = 1,\n",
        "               taxonlist_path = None,\n",
        "               random_mining = False):\n",
        "    import os\n",
        "    import pandas as pd\n",
        "    from Bio import SeqIO\n",
        "    from Bio import Entrez\n",
        "    from datetime import datetime\n",
        "    from urllib.error import HTTPError\n",
        "    if random_mining:\n",
        "        from random import shuffle\n",
        "    start_time = datetime.now()\n",
        "\n",
        "\n",
        "    newpath = f'{datetime.now().strftime(\"%Y_%m_%d\")}_{taxon_query}_{gene_name}'\n",
        "    if not os.path.exists(newpath):\n",
        "        os.makedirs(newpath)\n",
        "        print(f'Step 0:\\n >> Directory {newpath} was created.')\n",
        "\n",
        "\n",
        "    gl_lowend = gene_length * (100 - length_tolerance_percent)/100\n",
        "    gl_highend = gene_length * (100 + upper_tolerance * length_tolerance_percent)/100\n",
        "    \n",
        "    tree_resolution = str(tree_resolution).lower()\n",
        "\n",
        "    tax_columns = ['taxID', 'genus', 'epithet', 'entry_UIDs', 'count', 'outgroup']\n",
        "\n",
        "    if tree_resolution == 'genus':\n",
        "        taxon_level = 'Genus'\n",
        "    elif tree_resolution == 'species':\n",
        "        taxon_level = 'species'\n",
        "    else:\n",
        "        print(f'Mining data with tree resolution on the taxonomic level \\'{tree_resolution}\\' \\\n",
        "is not possible with this script. Try \\'genus\\' (default) or \\'species\\'.')\n",
        "\n",
        "    if taxonlist_path:\n",
        "        try:\n",
        "            old_taxon_list = pd.read_csv(taxonlist_path)\n",
        "        except FileNotFoundError:\n",
        "            print(f'It was not possible to find input file {taxonlist_path}, please check \\\n",
        "the path and restart \\'ncbi_miner\\'.')\n",
        "            return\n",
        "        else:\n",
        "            if all([(any(old_taxon_list.keys() == i )) for i in tax_columns]):\n",
        "                print(f'The csv-file {taxonlist_path} was loaded. Step 1 will be \\\n",
        "skipped. Follow up steps will use those taxa to search for sequences.')\n",
        "\n",
        "                Entrez.email = my_mail\n",
        "                Entrez.api_key = my_API_key\n",
        "                all_taxaIDs = list(old_taxon_list['taxID'])\n",
        "        \n",
        "                progress_criterion = len(all_taxaIDs) // 20\n",
        "                percentage_factor = 20/100\n",
        "        \n",
        "                print(f'Step 2:\\n >> Esearch for gene entries of all species in the taxon {taxon_query}. \\\n",
        "This may take time, so keep the internet connection, chill down, drink a tea. \\n The progress is ...')\n",
        "                taxon_list = pd.DataFrame(columns = tax_columns)\n",
        "                for i, taxon in enumerate(all_taxaIDs):\n",
        "                    k = i + 1\n",
        "                    if (k % progress_criterion) == 1:\n",
        "                        print(f' - {int(i // (progress_criterion*percentage_factor))} % -')\n",
        "                    else:\n",
        "                        pass\n",
        "\n",
        "                    if coding_sequence:\n",
        "                        query = f'{gene_name}[Gene Name] txid{str(taxon)}'\n",
        "                    else:\n",
        "                        query = f'{gene_name} txid{str(taxon)}'\n",
        "                    if exclude_query:\n",
        "                        exclude_string = f' NOT {exclude_query}'\n",
        "                        query = f'{query}{exclude_query}'\n",
        "                    try:\n",
        "                        with Entrez.esearch(db='nuccore', term=query, retmax=search_limit, sort='date released') as handle:\n",
        "                            gene_record = Entrez.read(handle)\n",
        "                    except HTTPError:\n",
        "                            print('New Error, but RUN Forrest RUN!')\n",
        "                    else:\n",
        "                            count = gene_record['Count']\n",
        "                            if count == '0':\n",
        "                                pass\n",
        "                            else:\n",
        "                                taxon_list.loc[i] = [taxon,\n",
        "                                                     old_taxon_list['genus'].iloc[i],\n",
        "                                                     old_taxon_list['epithet'].iloc[i],\n",
        "                                                     gene_record['IdList'],\n",
        "                                                     int(gene_record['Count']),\n",
        "                                                     old_taxon_list['outgroup'].iloc[i]]\n",
        "                taxon_list.to_csv(f'{newpath}/{taxon_query}_{gene_name}_stat.csv')\n",
        "                print(f' >> Done - entry database successfully established. Summary was saved as \\\n",
        "{taxon_query}_{gene_name}_stat.csv')\n",
        "\n",
        "            ### OLD ###\n",
        "\n",
        "            else:\n",
        "                print(f'The input file {taxonlist_path} does not fit with the conditions (header).\\\n",
        "Please change and restart \\'ncbi_miner\\'.')\n",
        "                return\n",
        "\n",
        "    else:\n",
        "        #### > STEP 1 < ####\n",
        "    \n",
        "        Entrez.email = my_mail\n",
        "        Entrez.api_key = my_API_key\n",
        "\n",
        "        try:\n",
        "            with Entrez.esearch(db=\"taxonomy\", term=f'{taxon_query}[orgn]', retmax=search_limit) as handle:\n",
        "                record = Entrez.read(handle)\n",
        "        except HTTPError:\n",
        "            return str('Database error, try later...')\n",
        "        else:\n",
        "            all_taxaIDs = record['IdList']\n",
        "              \n",
        "                #try:\n",
        "                 #       with Entrez.esearch(db=\"taxonomy\", term=f'{taxon_query}[orgn]', retmax=search_limit) as handle:\n",
        "                  #          record = Entrez.read(handle)\n",
        "                #except HTTPError:\n",
        "                 #       return str('Database error, try later...')\n",
        "                #else:\n",
        "                 #       outgroup_taxaID = pd.Series([record['IdList']])\n",
        "\n",
        "            print('Step 1:\\n >> Done - taxon database successfully established.')\n",
        "        \n",
        "    \n",
        "        #### > STEP 2 < ####\n",
        "    \n",
        "        Entrez.email = my_mail\n",
        "        Entrez.api_key = my_API_key\n",
        "        \n",
        "        progress_criterion = len(all_taxaIDs) // 20\n",
        "        percentage_factor = 20/100\n",
        "        print(f'Step 2:\\n >> Esearch for gene entries of all species in the taxon {taxon_query}. \\\n",
        "This may take time, so keep the internet connection, chill down, drink a tea. \\n The progress is ...')\n",
        "        taxon_list = pd.DataFrame(columns = tax_columns)\n",
        "        for i, taxon in enumerate(all_taxaIDs, 1):\n",
        "            if (i % progress_criterion) == 1:\n",
        "                print(f' - {int(i // (progress_criterion*percentage_factor))} % -')\n",
        "\n",
        "            try:\n",
        "                with Entrez.esummary(db=\"taxonomy\", id=taxon, retmax=search_limit) as handle:\n",
        "                    record = Entrez.read(handle)[0]\n",
        "            except IndexError:\n",
        "                print('New Error. Nemas Problemas!')\n",
        "                break\n",
        "            except HTTPError:\n",
        "                print('New Error, but bro, stay seated, we skip it and keep searching...')\n",
        "            else:\n",
        "                if record['Rank'] == 'species' and record['Genus'] != '':\n",
        "                    try:\n",
        "                        if coding_sequence:\n",
        "                                query = f'{gene_name}[Gene Name]+txid{str(taxon)}'\n",
        "                        else:\n",
        "                                query = f'{gene_name}+txid{str(taxon)}'\n",
        "                        if exclude_query:\n",
        "                                exclude_string = f'+NOT+{exclude_query}'\n",
        "                                query = f'{query}{exclude_query}'\n",
        "                        with Entrez.esearch(db='nuccore', term=query, retmax=search_limit, sort='pub+date') as handle:\n",
        "                            gene_record = Entrez.read(handle)\n",
        "                    except HTTPError:\n",
        "                        print('New Error! But nothing big to worry about.')\n",
        "                    else:\n",
        "                        count = gene_record['Count']\n",
        "                        if count == '0':\n",
        "                            pass\n",
        "                        else:\n",
        "                            taxon_list.loc[taxon] = [taxon,\n",
        "                                                 record['Genus'],\n",
        "                                                 record['Species'],\n",
        "                                                 gene_record['IdList'],\n",
        "                                                 int(gene_record['Count']),\n",
        "                                                 'False']\n",
        "                else:\n",
        "                    pass\n",
        "        og_list = pd.DataFrame(columns = tax_columns)\n",
        "        if len(outgroups) > 0:\n",
        "            for og in outgroups:\n",
        "                taxon = og\n",
        "                if coding_sequence:\n",
        "                    query = f'{gene_name}[Gene Name]+{og}[Organism]'\n",
        "                else:\n",
        "                    query = f'{gene_name}+{og}[Organism]'\n",
        "                if exclude_query:\n",
        "                    exclude_string = f'+NOT+{exclude_query}'\n",
        "                    query = f'{query}{exclude_query}'\n",
        "                print(query)\n",
        "                try:\n",
        "                    with Entrez.esearch(db='nuccore', term=query, retmax=search_limit, sort='pub+date') as handle:\n",
        "                          gene_record = Entrez.read(handle)\n",
        "                    print(f'{gene_record}')\n",
        "                except HTTPError:\n",
        "                    print('New Error! But nothing big to worry about.')\n",
        "                else:\n",
        "                    count = gene_record['Count']\n",
        "                    if count == '0':\n",
        "                        print('There are no entries of the gene for outgroup {og}.')\n",
        "                        pass\n",
        "                    else:\n",
        "                        print(f'{gene_record}')\n",
        "                        og_list.loc[taxon] = [taxon,\n",
        "                                            f'{taxon}_gen',\n",
        "                                            f'{taxon}_sp',\n",
        "                                            gene_record['IdList'],\n",
        "                                            int(gene_record['Count']),\n",
        "                                            'True']\n",
        "\n",
        "        else:\n",
        "            print('Warning: You have no outgroups!')\n",
        "        #for taxon in enumerate(all_taxaIDs, 1):\n",
        "            taxon_list.to_csv(f'{newpath}/{taxon_query}_{gene_name}_stat_ingroup.csv')\n",
        "        print(f' >> Done - entry database successfully established. Summary (without outgroups) was saved as \\\n",
        "{taxon_query}_{gene_name}_stat_ingroup.csv')\n",
        "        \n",
        "    \n",
        "    #### > STEP 3 < ####\n",
        "\n",
        "    print(f'Step 3:\\n >> Efetch for each species of the given genera with the most entries \\\n",
        "for the given gene. This may take some time as well, I would answer some mails in the meantime ;-) \\n The progress is ...')\n",
        "    data_list = pd.DataFrame(columns = ['taxID',\n",
        "                                        'accession',\n",
        "                                        'length',\n",
        "                                        'date',\n",
        "                                        'organism',\n",
        "                                        'reference',\n",
        "                                        'gene_information',\n",
        "                                        'sampling_locality',\n",
        "                                        'outgroup',\n",
        "                                        'genus',\n",
        "                                        'epithet'])\n",
        "    ### NEW ###\n",
        "    full_taxon_list = pd.concat([taxon_list, og_list])\n",
        "    print(og_list)\n",
        "    if taxon_level == 'Genus':\n",
        "        genera = full_taxon_list['genus'].unique()\n",
        "    else:\n",
        "        genera = full_taxon_list['taxID'].unique()\n",
        "    print(genera)\n",
        "    ### OLD ###\n",
        "\n",
        "    progress_criterion = -( -len(genera) // 10)\n",
        "    percentage_factor = 10/100\n",
        "    \n",
        "    \n",
        "    for j, genus_ID in enumerate(genera):\n",
        "        if (j % progress_criterion) == 1:\n",
        "            print(f' - {int(j // (progress_criterion*percentage_factor))} % -')\n",
        "        else:\n",
        "            pass\n",
        "        if taxon_level == 'Genus':\n",
        "          all_species = full_taxon_list[full_taxon_list['genus'] == genus_ID]\n",
        "        else:\n",
        "          all_species = full_taxon_list[full_taxon_list['taxID'] == genus_ID]\n",
        "        all_species = all_species.sort_values(by=['count'], ascending=False)\n",
        "        if len(list(all_species['entry_UIDs'])) < entries_per_genus:\n",
        "            epg = len(list(all_species['entry_UIDs']))\n",
        "        else:\n",
        "            epg = entries_per_genus\n",
        "        for entry in list(range(epg)):\n",
        "        ### NEW ###\n",
        "            entry_list = list(all_species['entry_UIDs'])[entry]\n",
        "            if random_mining:\n",
        "                shuffle(entry_list)\n",
        "        ### OLD ###\n",
        "            Entrez.email = my_mail\n",
        "            Entrez.api_key = my_API_key\n",
        "            entry_counter = 0\n",
        "            for i, acc_id in enumerate(entry_list):\n",
        "                try:\n",
        "                    with Entrez.efetch(db=\"nuccore\", id=acc_id, retmode='text', rettype=\"gb\") as handle:\n",
        "                        record = SeqIO.read(handle, \"genbank\")\n",
        "                except HTTPError:\n",
        "                    print('New Error, but chill down, everything is soft')\n",
        "                else:\n",
        "                    if gl_lowend < len(record) < gl_highend:\n",
        "                        features = record.features\n",
        "                        filterframe = [x.type == 'gene' for x in features]\n",
        "                        if any(filterframe) == True:\n",
        "                            keyword = 'gene'\n",
        "                        else:\n",
        "                            filterframe = [x.type != 'source' for x in features]\n",
        "                            keyword = 'product'\n",
        "                        gene_features = [x for i, x in enumerate(features) if filterframe[i]==True]\n",
        "                        try:\n",
        "                            gene_info = [(x.qualifiers.get(keyword))[0] for x in gene_features]\n",
        "                        except TypeError:\n",
        "                            gene_info = ['']\n",
        "                        sample_locality = features[0].qualifiers.get('country')\n",
        "                        try:\n",
        "                            referenza = record.annotations['references'][0]\n",
        "                        except TypeError:\n",
        "                            referenza = ['']\n",
        "                        selection = full_taxon_list[full_taxon_list['taxID'] == genus_ID]\n",
        "                        data_list.loc[f'{j+1}_{record.id}'] = [genus_ID,\n",
        "                                            record.id,\n",
        "                                            len(record),\n",
        "                                            record.annotations['date'],\n",
        "                                            record.annotations['organism'],\n",
        "                                            referenza,\n",
        "                                            gene_info,\n",
        "                                            sample_locality,\n",
        "                                            selection['outgroup'].iat[0],\n",
        "                                            selection['genus'].iat[0],\n",
        "                                            selection['epithet'].iat[0]]\n",
        "                        with open(f'{newpath}/{taxon_query}_{gene_name}.fasta', 'a') as finalfasta:\n",
        "                            rawseq = str(record.seq)\n",
        "                            if taxon_level == 'species':\n",
        "                                fasta_head = str(record.annotations['organism'])\n",
        "                                fasta_head = fasta_head.replace(' ', '_').replace('.', '').replace('-', '_')\n",
        "                            else:\n",
        "                                fasta_head = genus_ID\n",
        "                            if entries_per_tax == 1 and entries_per_genus == 1:\n",
        "                                finalfasta.write(f'>{fasta_head}\\n')\n",
        "                            else:\n",
        "                                finalfasta.write(f'>{fasta_head}_{record.id}\\n')\n",
        "                            finalfasta.write(f'{rawseq}\\n\\n')\n",
        "                ### NEW ###\n",
        "                        entry_counter += 1\n",
        "                        if entry_counter == entries_per_tax:\n",
        "                            break\n",
        "                        else:\n",
        "                            pass\n",
        "                ### OLD ###\n",
        "                    else:\n",
        "                        pass\n",
        "    print('Updating the outgroup data...')\n",
        "    out_selection = data_list[data_list['outgroup'] == 'True']\n",
        "    for i, org in enumerate(out_selection['organism']):\n",
        "        print(org)\n",
        "        try:\n",
        "            with Entrez.esearch(db=\"taxonomy\", term=f'{org}[Scientific Name]', retmax=search_limit) as handle:\n",
        "                record = Entrez.read(handle)\n",
        "        except HTTPError:\n",
        "            print(f'Error, did not find {org}.')\n",
        "        else:\n",
        "            txid = record['IdList'][0]\n",
        "            print(txid)\n",
        "            try:\n",
        "                with Entrez.esummary(db=\"taxonomy\", id=txid, retmax=search_limit) as handle:\n",
        "                    spef_record = Entrez.read(handle)[0]\n",
        "            except IndexError:\n",
        "                print('New Error. Nemas Problemas!')\n",
        "                break\n",
        "            except HTTPError:\n",
        "                print('Errore furore, no problemo spaghetto!')\n",
        "            else:\n",
        "                og_gen = spef_record['Genus']\n",
        "                og_sp = spef_record['Species']\n",
        "                data_list.loc[data_list['organism'] == org, ['taxID']] = txid\n",
        "                data_list.loc[data_list['organism'] == org, ['genus']] = og_gen\n",
        "                data_list.loc[data_list['organism'] == org, ['epithet']] = og_sp\n",
        "                taxon_list.loc[txid] = [txid,\n",
        "                                  og_gen,\n",
        "                                  og_sp,\n",
        "                                  og_list['entry_UIDs'][i],\n",
        "                                  og_list['count'][i],\n",
        "                                  'False']\n",
        "\n",
        "\n",
        "    data_list.to_csv(f'{newpath}/{taxon_query}_{gene_name}_data.csv')\n",
        "    taxon_list.to_csv(f'{newpath}/{taxon_query}_{gene_name}_stat.csv')\n",
        "    print(f' >> Done - most recent fasta sequences were collected and successfully concatenated. \\\n",
        "It was saved in the file {taxon_query}_{gene_name}.fasta and is proove for nexus conversion. \\\n",
        "Summary of used sequences was saved as {taxon_query}_{gene_name}_data.csv. In addition the \\\n",
        "outgroup was added to the stat-file and saved as: {taxon_query}_{gene_name}_stat.csv.')\n",
        "    stop_time = datetime.now()\n",
        "    process_time = stop_time - start_time\n",
        "    print(f' >> NCBI mining finished. It took {process_time.seconds // 60} min, \\\n",
        "{process_time.seconds % 60} sec. The files are stored in the directory {newpath}.')\n",
        "\n"
      ],
      "execution_count": 0,
      "outputs": []
    },
    {
      "cell_type": "markdown",
      "metadata": {
        "id": "lpyNsbnYmkfB",
        "colab_type": "text"
      },
      "source": [
        "#2 Parameters"
      ]
    },
    {
      "cell_type": "markdown",
      "metadata": {
        "id": "eJSMMe8jmqox",
        "colab_type": "text"
      },
      "source": [
        "##2.1 Mandatory arguments for search\n",
        "Please enter your monophylum as query and run the block."
      ]
    },
    {
      "cell_type": "code",
      "metadata": {
        "id": "-xKON2cEpWP9",
        "colab_type": "code",
        "cellView": "form",
        "colab": {}
      },
      "source": [
        "#{display-mode: 'form'}\n",
        "#@markdown Name of monophyletic taxon:\n",
        "taxon_query = 'Caltha' #@param {type:\"string\"}\n",
        "#@markdown Name of gene:\n",
        "gene_name = 'matk' #@param {type:\"string\"}\n",
        "#@markdown Estimate of gene length (check at NCBI, pubmed, ...):\n",
        "gene_length = 750 #@param {type:\"number\"}\n",
        "#@markdown Enter your mail adress (mandatory for NCBI search):\n",
        "my_mail = 'thomas.huber@evobio.eu' #@param {type:\"string\"}\n",
        "coding_sequence = True #@param {type:\"boolean\"}"
      ],
      "execution_count": 0,
      "outputs": []
    },
    {
      "cell_type": "code",
      "metadata": {
        "id": "91ePz-Rbo_F4",
        "colab_type": "code",
        "colab": {},
        "cellView": "form"
      },
      "source": [
        "#{display-mode: 'form'}\n",
        "outgroups = ['Gentianaceae',  'Campanula'] #@param {type:\"raw\"}"
      ],
      "execution_count": 0,
      "outputs": []
    },
    {
      "cell_type": "markdown",
      "metadata": {
        "id": "rpcmQWallgIg",
        "colab_type": "text"
      },
      "source": [
        "##2.2 Optional arguments for search\n",
        "The following parameters can be adjusted. Please run the block afterwards."
      ]
    },
    {
      "cell_type": "code",
      "metadata": {
        "id": "7k6D-CJuAu-E",
        "colab_type": "code",
        "cellView": "form",
        "colab": {}
      },
      "source": [
        "#{display-mode: 'form'}\n",
        "#@markdown Enter your NCBI API key (increases search pace by factor ~ 3). Read more here : https://ncbiinsights.ncbi.nlm.nih.gov/2017/11/02/new-api-keys-for-the-e-utilities/\n",
        "#@markdown <br/>(!) You will need to set it within quotation marks (e.g. 'AZNE192930N8D...NDJE9D0').\n",
        "my_API_key =  '7c7333f5a6fbaac7af1a67a8b70edc19e309'#@param {type:\"raw\"}\n",
        "#@markdown Which resolution should your tree have (default: Genus)? i.e. taxonomic level of external branches\n",
        "tree_resolution = 'species' #@param ['genus', 'species']\n",
        "#@markdown Tolerance (in percent) of gene length for the retrieved sequences setting lower limit (default: 20).\n",
        "length_tolerance_percent = 100 #@param {type:\"slider\", min:0, max:100, step:1}\n",
        "#@markdown Factor for tolerance setting the upper limit to retrieve sequences.\n",
        "upper_tolerance = 2 #@param {type:\"number\"}\n",
        "#@markdown Enter the limit of retrieved results per search (default: 10000).\n",
        "search_limit = 10000 #@param {type:\"slider\", min:1, max:10000, step:1}\n",
        "#@markdown How many species per genus do you want to retrieve? The species within a genus will be ranked after count of entries for the given gene.\n",
        "entries_per_genus = 1 #@param {type:\"slider\", min:1, max:20, step:1}\n",
        "#@markdown How many entries do you want to retrieve per species/taxon?\n",
        "entries_per_tax = 1 #@param {type:\"slider\", min:1, max:20, step:1}\n",
        "#@markdown Usually the results will be sorted by increasing age, so the most recent entries should be retrieved. Do you want to change it to random order?\n",
        "random_mining = False #@param {type:\"boolean\"}\n",
        "taxonlist_path = None"
      ],
      "execution_count": 0,
      "outputs": []
    },
    {
      "cell_type": "markdown",
      "metadata": {
        "id": "T9o6IdNeFFYc",
        "colab_type": "text"
      },
      "source": [
        "##(2.3 Upload of accession list as csv)\n",
        "Do you already have a set of selected accession IDs as a result of a previous use of lumberjack (i.e. deforestation) and you want to use it for a new search (e.g. different genes)? Then you should upload it here:"
      ]
    },
    {
      "cell_type": "code",
      "metadata": {
        "id": "m7ZRW1-oFEHo",
        "colab_type": "code",
        "colab": {}
      },
      "source": [
        "#@title --> Upload here! <-- {display-mode: 'form'}\n",
        "from google.colab import files\n",
        "uploaded = files.upload() \n",
        "\n",
        "for fn in uploaded.keys():\n",
        "  taxonlist_path = fn\n",
        "  print(f'Upload successful, {fn} will be used in the following ncbi_miner session')"
      ],
      "execution_count": 0,
      "outputs": []
    },
    {
      "cell_type": "markdown",
      "metadata": {
        "id": "Cptmqa2FlQTL",
        "colab_type": "text"
      },
      "source": [
        "#3 Let's go!"
      ]
    },
    {
      "cell_type": "code",
      "metadata": {
        "id": "2mGkjHEioV05",
        "colab_type": "code",
        "cellView": "both",
        "colab": {
          "base_uri": "https://localhost:8080/",
          "height": 632
        },
        "outputId": "2dcbfecb-21c9-459b-b83f-ba2158f550ea"
      },
      "source": [
        "#@markdown On the left you can see how the function is called. Run it, to conduct the deforestation of the NCBI jungle.\n",
        "ncbi_miner(taxon_query = taxon_query,\n",
        "               gene_name = gene_name,\n",
        "               gene_length = gene_length,\n",
        "               my_mail = my_mail,\n",
        "               outgroups = outgroups,\n",
        "               coding_sequence = coding_sequence,\n",
        "               my_API_key = my_API_key, \n",
        "               tree_resolution = tree_resolution,\n",
        "               length_tolerance_percent = length_tolerance_percent,\n",
        "               upper_tolerance = upper_tolerance,\n",
        "               search_limit = search_limit,\n",
        "               entries_per_genus = entries_per_genus,\n",
        "               entries_per_tax = entries_per_tax,\n",
        "               taxonlist_path = taxonlist_path,\n",
        "               random_mining = random_mining)"
      ],
      "execution_count": 126,
      "outputs": [
        {
          "output_type": "stream",
          "text": [
            "Step 0:\n",
            " >> Directory 2019_12_21_Caltha_matk was created.\n",
            "Step 1:\n",
            " >> Done - taxon database successfully established.\n",
            "Step 2:\n",
            " >> Esearch for gene entries of all species in the taxon Caltha. This may take time, so keep the internet connection, chill down, drink a tea. \n",
            " The progress is ...\n",
            "matk[Gene Name]+Gentianaceae[Organism]\n",
            "{'Count': '1227', 'RetMax': '1227', 'RetStart': '0', 'IdList': ['1783492105', '1783489839', '1776852779', '1775178346', '1771904382', '1735237277', '1714006962', '1693286041', '1572523471', '1622822656', '1597478977', '1597477956', '1597477908', '1597477905', '1597477903', '1597477901', '1597477898', '1597477313', '1586082147', '1198275461', '1198275235', '1198275047', '1198274651', '1198274385', '1198274229', '1198274151', '1198274143', '1198273907', '1198273535', '1198273453', '1198273245', '1198273219', '1333443866', '1333443656', '1318751401', '1509837747', '1509837656', '1509837566', '1475997778', '1475997776', '1475997774', '1475997772', '1475997770', '1475997768', '1475997766', '1475997764', '1475997762', '1475997760', '1475997758', '1475997756', '1475997754', '1475997752', '1475997750', '1475997748', '1475997746', '1475997744', '1475997742', '1475997740', '1475997738', '1465193134', '1465193049', '1465192962', '1465192878', '1463809660', '1463809433', '1463809347', '1350872115', '1445139500', '1445139498', '1445139466', '1445139464', '1445139462', '1445139460', '1445139020', '1445139018', '1445139016', '1445139014', '1418586504', '1418586418', '1418586344', '1418586270', '1418586195', '1418586120', '1418586046', '1394333552', '1394333466', '1394333392', '1394333318', '1394333243', '1394333168', '1394333094', '1390220475', '1390220473', '1390220471', '1390220469', '1390220467', '1390220465', '1390220463', '1390220461', '1390220459', '1390220457', '1390220455', '1390220453', '1390220451', '1390220449', '1390220447', '1390220445', '1390220443', '844174445', '844174268', '1351233137', '1351233129', '1328822920', '1328822726', '1328822638', '1328822374', '1328822002', '1328821956', '1284847869', '1284847764', '1284847699', '1284847538', '1284847509', '1284847491', '1284847488', '1284847451', '1284847422', '818944700', '818944698', '818944696', '818944694', '1270119006', '1251774228', '1251774180', '1251774147', '1251774073', '1251774017', '1243026317', '1238820707', '1236181293', '1226041982', '1209748033', '1209748031', '1209748029', '1195856965', '1195856879', '1195856793', '1195856707', '1195856621', '1195856535', '1195856449', '1195855977', '1092924672', '1092924670', '1092924668', '1092924666', '1092924664', '1092924662', '1092924660', '1092924658', '1092924656', '1092924654', '1092924652', '1092924650', '1092924648', '1092924646', '1092924644', '1092924642', '1092924640', '1092924638', '1092924636', '1092924634', '1092924632', '1092924630', '1092924628', '1092924626', '1092924624', '1092924622', '1092924620', '1092924618', '1092924616', '1092924614', '1092924612', '1092924610', '1092924608', '1092924606', '1092924604', '1092924602', '1092924600', '1092924598', '1092924596', '1092924594', '1092924592', '1092924590', '1092924588', '1092924586', '1092924584', '1092924582', '1092924580', '1092924578', '1092924576', '1092924574', '1092924572', '1092924570', '1092924568', '1092924566', '1092924564', '1092924562', '1092924560', '1092924558', '1092924556', '1092924554', '1092924552', '1092924550', '1092924548', '1092924546', '1092924544', '1092924542', '1092924540', '1092924538', '1092924536', '1092924534', '1013063925', '1013063923', '1013063921', '1013063919', '1013063917', '1013063915', '1013063913', '1013063911', '1013063909', '1013063907', '1013063905', '1013063903', '1013063901', '1013063899', '1013063897', '1013063895', '1013063893', '1013063891', '1071928498', '1071928470', '1071928468', '1071928452', '1071928448', '1071928446', '1071928444', '1071928442', '1071928438', '1070064170', '1064842673', '1063822632', '1063822630', '1060605271', '1048219054', '1048219052', '1048219024', '1048219020', '1048219018', '1048219016', '1048219014', '1048219012', '1048219010', '1048219008', '1048219006', '356463744', '356463742', '356463740', '356463738', '356463736', '356463734', '356463732', '356463730', '356463728', '356463726', '315140571', '290583635', '259191236', '242800783', '224985951', '224985949', '224985947', '224985945', '224985943', '224985941', '224985939', '224985937', '224985935', '224985933', '224985931', '224985929', '224985927', '224985925', '224985923', '224985921', '224985919', '224985917', '224985915', '224985913', '224985911', '224985909', '224985907', '224985905', '224985903', '224985901', '224985899', '224985897', '224985895', '224985893', '224985891', '224985889', '224985888', '224985886', '224985884', '224985882', '224985881', '224985879', '224985877', '224985875', '224985873', '224985871', '224985869', '224985867', '224985865', '224985863', '224985861', '224985859', '224985857', '917546429', '126362780', '1037240811', '1031499322', '1002155697', '1002155695', '1002155693', '1002155691', '1002155689', '1002155687', '1002155685', '1002155683', '1002155681', '1002155679', '1002155677', '1002155675', '1002155673', '1002155671', '1002155669', '1002155667', '1002155665', '1002155662', '1002155660', '1002155658', '1002155656', '1002155654', '1002155652', '1002155649', '1002155647', '1002155645', '1002155643', '1002155641', '1002155639', '1002155637', '1002155635', '1002155632', '1002155630', '1002155628', '1002155626', '1002155624', '1002155622', '1002155620', '1002155618', '1002155616', '1002155613', '1002155611', '1002155609', '1002155607', '1002155605', '1002155603', '1002155601', '1002155599', '1002155597', '1002155595', '1002155593', '1002155591', '1002155589', '1002155587', '1002155585', '1002155583', '1002155580', '1002155578', '1002155576', '1002155574', '1002155572', '1002155570', '1002155568', '1002155566', '1002155564', '1002155561', '1002155559', '1002155557', '1002155555', '1002155553', '1002155551', '1002155549', '1002155547', '1002155545', '1002155543', '1002155541', '1002155539', '1002155536', '1002155534', '1002155532', '1002155530', '1002155528', '1002155526', '1002155524', '1002155522', '1002155519', '1002155517', '1002155515', '1002155513', '1002155511', '1002155509', '1002155507', '1002155505', '1002155502', '1002155500', '1002155498', '1002155496', '1002155494', '1002155492', '1002155490', '1002155487', '1002155485', '1002155483', '1002155481', '1002155479', '1002155477', '1002155475', '1002155473', '1002155471', '1002155469', '1002155467', '1002155465', '1002155463', '1002155461', '1002155458', '1002155456', '1002155454', '1002155452', '1002155450', '1002155448', '1002155446', '1002155443', '1002155441', '1002155439', '1002155437', '1002155435', '1002155433', '1002155431', '1002155429', '1016928883', '1016928881', '1016928879', '1016928877', '1016928875', '1016928873', '1016928871', '1016928869', '1016928867', '1016928865', '1016928863', '1016928861', '1016928857', '1016928855', '1016928853', '1016928851', '1016928849', '1016928847', '1016928845', '1016928843', '1016928841', '1016928839', '1016928837', '1016928835', '1016928833', '1016928831', '1016928829', '1016928827', '1016928825', '1016928823', '1016928821', '1016928819', '1016928817', '1016928815', '1016928813', '1016928811', '1016928809', '1016928807', '1016928805', '1016928803', '1016928801', '1016928799', '1016928797', '1016928795', '1016928793', '1016928791', '1016928789', '1016928787', '1016928785', '1016928783', '1016928781', '1016928779', '1016928777', '1016928775', '1016928773', '1016928771', '1016928769', '1016928767', '1016928765', '1016928763', '1016928761', '1016928759', '1016928757', '1016928755', '1016928753', '1016928751', '1016928749', '1016928747', '1016928745', '1016928743', '1016928741', '1016928739', '1016928737', '1016928735', '1016928733', '1016928731', '1016928729', '1016928727', '1016928725', '1016928859', '658157530', '998454385', '998454383', '998454381', '908373767', '908373765', '908373763', '908373761', '908373759', '908373757', '908373755', '908373753', '908373751', '908373749', '908373747', '908373745', '908373743', '908373741', '908373739', '908373737', '908373735', '908373733', '667667984', '702075207', '702075205', '702075203', '702075201', '702075199', '702075197', '702075195', '884997218', '884997132', '659105120', '827025705', '827025703', '827025701', '827025699', '827025697', '827025695', '619326254', '619326220', '780736604', '780736602', '780736600', '784494921', '784494917', '784494913', '784494909', '784494906', '784494900', '784494895', '784494891', '784494887', '784494880', '784494876', '784494873', '784494869', '784494865', '784494861', '607344994', '747154798', '747154784', '747154782', '747154780', '747154778', '747154710', '745071380', '745071378', '745071376', '745071374', '745071372', '745071370', '699262882', '699262880', '699262878', '699262876', '699262874', '699262872', '699262870', '699262868', '699262866', '699262864', '699262862', '693297598', '693297596', '693297594', '693297592', '693297590', '693297588', '693297586', '693297584', '693297582', '693297580', '693297578', '693297576', '693297574', '693297572', '693297570', '693297568', '693297566', '693297564', '693297562', '693297560', '693297558', '693297556', '693297554', '693297552', '693297550', '693297548', '693297546', '693297544', '693297542', '693297540', '693297538', '693297536', '693297534', '693297532', '693297530', '693297528', '693297526', '693297524', '693297522', '693297520', '693297518', '693297516', '693297514', '693297512', '693297510', '693297508', '693297506', '598096439', '598096437', '598096435', '598096433', '598096431', '598096429', '598096427', '598096425', '598096423', '598096421', '598096419', '335058837', '335058835', '549442478', '549442476', '549442474', '549442472', '549442470', '549442468', '549442466', '549442464', '549442462', '549442460', '549442458', '549442456', '549442454', '549442452', '549442450', '549442448', '549442446', '549442444', '549442442', '549442440', '549442438', '549442436', '549442434', '549442432', '549442430', '549442428', '556822919', '556822916', '556822913', '556822910', '556822907', '556822904', '556822901', '556822898', '556822895', '556822892', '556822889', '556822886', '556822883', '556822880', '556822877', '556822874', '556822871', '556822868', '556822865', '556822862', '556822859', '556822856', '556822853', '556822850', '556822847', '556822844', '556822841', '556822838', '556822835', '556822832', '556822829', '556822826', '556822823', '556822821', '556822819', '556549543', '556549541', '556549539', '556549537', '556549535', '556549533', '556549531', '556549529', '556549527', '556549525', '556549523', '556549521', '556549519', '556549517', '556549515', '556549513', '556549511', '556549509', '556549507', '556549505', '556549503', '556549501', '556549499', '556549497', '556549495', '556549493', '556549491', '556549489', '556549487', '556549485', '556549483', '556549481', '556549479', '556549477', '556549475', '556549473', '556549471', '556549469', '556549467', '556549465', '556549463', '556549461', '556549459', '556549457', '556549455', '556549453', '556549451', '556549449', '556549447', '556549445', '556549443', '556549441', '556549439', '556549437', '556549435', '556549433', '556549431', '556549429', '556549427', '556549425', '556549423', '556549421', '556549419', '556549417', '556549415', '556549413', '556549411', '556549409', '556549407', '459928930', '459928928', '459928926', '459928924', '459928922', '459928730', '459928728', '459928726', '459928724', '407911259', '500049058', '500049057', '340512947', '340512945', '340512943', '340512941', '340512939', '340512937', '371533528', '371533526', '371533524', '371533522', '371533520', '371533518', '371533516', '371533514', '371533512', '371533510', '371533508', '384587318', '384583442', '384583440', '384583438', '384583436', '384583434', '384583432', '384583430', '384583428', '384583426', '384583424', '327366084', '379042182', '379042180', '379042178', '379042176', '379041014', '379041012', '379041010', '379040916', '379040914', '379040910', '379039348', '379039346', '379039010', '379038996', '379038988', '379038986', '379038502', '146742287', '146742285', '146742283', '146742281', '146742279', '146742277', '146742275', '146742273', '146742271', '146742269', '146742267', '146742265', '146742263', '146742261', '146742259', '146742257', '146742255', '146742253', '146742251', '146742249', '146742247', '146742245', '146742243', '146742241', '146742239', '146742237', '146742235', '146742233', '146742231', '146742229', '146742227', '146742225', '146742223', '146742221', '146742219', '146742217', '146742215', '146742213', '146742211', '146742209', '146742207', '146742205', '146742203', '146742201', '146742199', '146742197', '146742195', '146742193', '146742191', '146742189', '146742187', '146742185', '146742183', '146742181', '146742179', '146742177', '351589271', '351589269', '351589267', '351589265', '351589263', '351589261', '351589259', '351589257', '351589255', '351589253', '351589251', '351589249', '351589247', '351589245', '351589243', '351589241', '351589239', '351589237', '351589235', '351589233', '351589231', '351589229', '351589227', '351589225', '351589223', '351589221', '351589219', '351589217', '351589215', '351589213', '351584067', '351584065', '351584063', '351584061', '351584059', '351584057', '351584055', '351584053', '351584051', '31790485', '31790483', '18152518', '18152516', '18152514', '18152512', '18152510', '18152508', '18152504', '18152502', '18152428', '18152426', '18152424', '18152422', '13235681', '13235679', '13235677', '13235675', '13235673', '13235671', '13235669', '13235667', '13235665', '13235663', '13235661', '13235659', '13235657', '13235655', '13235321', '13235319', '13235317', '13235315', '13235313', '13235311', '13235309', '13235307', '13235305', '13235303', '13235301', '13235299', '13235297', '13235295', '13235293', '13235291', '13235289', '13235287', '13235285', '13235283', '13235281', '13235279', '13235277', '13235275', '13235273', '13235271', '13235269', '13235267', '13235265', '13235263', '13235261', '13235259', '13235257', '13235255', '13235253', '13235251', '13235249', '13235247', '13235245', '13235243', '13235241', '13235232', '13235230', '13235228', '13235226', '13235224', '13235222', '13235082', '13235080', '21388437', '21388333', '21388445', '21388341', '21388089', '21388061', '21388327', '21388323', '21388303', '21388273', '21388259', '21388255', '21388059', '4456795', '4456793', '4456688', '4456079', '4455871', '11877795', '11877793', '11877355', '11877353', '11877254', '11877252', '11877250', '21388447', '21388443', '21388441', '21388439', '21388435', '21388433', '21388431', '21388429', '21388427', '21388425', '21388423', '21388421', '21388419', '21388417', '21388415', '21388413', '21388411', '21388409', '21388407', '21388405', '21388403', '21388401', '21388399', '21388397', '21388395', '21388393', '21388391', '21388389', '21388387', '21388385', '21388383', '21388381', '21388379', '21388377', '21388375', '21388373', '21388371', '21388369', '21388367', '21388365', '21388363', '21388361', '21388359', '21388357', '21388355', '21388343', '21388339', '21388337', '21388335', '21388331', '21388329', '21388325', '21388321', '21388319', '21388317', '21388315', '21388313', '21388311', '21388309', '21388307', '21388305', '21388301', '21388299', '21388297', '21388295', '21388293', '21388291', '21388289', '21388287', '21388285', '21388283', '21388281', '21388279', '21388277', '21388275', '21388271', '21388269', '21388267', '21388265', '21388263', '21388261', '21388257', '21388253', '21388101', '21388099', '21388097', '21388095', '21388093', '21388091', '21388087', '21388085', '21388083', '21388081', '21388079', '21388075', '21388073', '21388071', '21388069', '21388067', '21388065', '21388063', '21388057', '21388055', '21388053', '21388051', '3063770', '18152506', '18152500', '4456126', '22798969', '22798793', '22798791', '22796277', '4467408', '4456884', '4456882', '4456879', '4456877', '4456863', '4456861', '4456844', '4456842', '4456799', '4456783', '4456781', '4456694', '4456692', '4456690', '4456661', '4456659', '4456647', '4456645', '4456629', '4456627', '4456132', '4456130', '4456128', '4456124', '4456107', '4456105', '4456096', '4456094', '4456081', '4456077', '4456075', '4455904', '4455902', '4455900', '4455879', '4455877', '4455873', '4455869', '4455865', '4455863', '4455829', '4455827', '4455813', '4455811'], 'TranslationSet': [{'From': '+Gentianaceae[Organism]', 'To': '\"Gentianaceae\"[Organism]'}], 'TranslationStack': [{'Term': 'matk[Gene Name]', 'Field': 'Gene Name', 'Count': '175240', 'Explode': 'N'}, {'Term': '\"Gentianaceae\"[Organism]', 'Field': 'Organism', 'Count': '123115', 'Explode': 'Y'}, 'AND'], 'QueryTranslation': 'matk[Gene Name] AND \"Gentianaceae\"[Organism]', 'WarningList': {'OutputMessage': [\"Unknown sort schema 'pub+date' ignored\"], 'PhraseIgnored': [], 'QuotedPhraseNotFound': []}}\n",
            "{'Count': '1227', 'RetMax': '1227', 'RetStart': '0', 'IdList': ['1783492105', '1783489839', '1776852779', '1775178346', '1771904382', '1735237277', '1714006962', '1693286041', '1572523471', '1622822656', '1597478977', '1597477956', '1597477908', '1597477905', '1597477903', '1597477901', '1597477898', '1597477313', '1586082147', '1198275461', '1198275235', '1198275047', '1198274651', '1198274385', '1198274229', '1198274151', '1198274143', '1198273907', '1198273535', '1198273453', '1198273245', '1198273219', '1333443866', '1333443656', '1318751401', '1509837747', '1509837656', '1509837566', '1475997778', '1475997776', '1475997774', '1475997772', '1475997770', '1475997768', '1475997766', '1475997764', '1475997762', '1475997760', '1475997758', '1475997756', '1475997754', '1475997752', '1475997750', '1475997748', '1475997746', '1475997744', '1475997742', '1475997740', '1475997738', '1465193134', '1465193049', '1465192962', '1465192878', '1463809660', '1463809433', '1463809347', '1350872115', '1445139500', '1445139498', '1445139466', '1445139464', '1445139462', '1445139460', '1445139020', '1445139018', '1445139016', '1445139014', '1418586504', '1418586418', '1418586344', '1418586270', '1418586195', '1418586120', '1418586046', '1394333552', '1394333466', '1394333392', '1394333318', '1394333243', '1394333168', '1394333094', '1390220475', '1390220473', '1390220471', '1390220469', '1390220467', '1390220465', '1390220463', '1390220461', '1390220459', '1390220457', '1390220455', '1390220453', '1390220451', '1390220449', '1390220447', '1390220445', '1390220443', '844174445', '844174268', '1351233137', '1351233129', '1328822920', '1328822726', '1328822638', '1328822374', '1328822002', '1328821956', '1284847869', '1284847764', '1284847699', '1284847538', '1284847509', '1284847491', '1284847488', '1284847451', '1284847422', '818944700', '818944698', '818944696', '818944694', '1270119006', '1251774228', '1251774180', '1251774147', '1251774073', '1251774017', '1243026317', '1238820707', '1236181293', '1226041982', '1209748033', '1209748031', '1209748029', '1195856965', '1195856879', '1195856793', '1195856707', '1195856621', '1195856535', '1195856449', '1195855977', '1092924672', '1092924670', '1092924668', '1092924666', '1092924664', '1092924662', '1092924660', '1092924658', '1092924656', '1092924654', '1092924652', '1092924650', '1092924648', '1092924646', '1092924644', '1092924642', '1092924640', '1092924638', '1092924636', '1092924634', '1092924632', '1092924630', '1092924628', '1092924626', '1092924624', '1092924622', '1092924620', '1092924618', '1092924616', '1092924614', '1092924612', '1092924610', '1092924608', '1092924606', '1092924604', '1092924602', '1092924600', '1092924598', '1092924596', '1092924594', '1092924592', '1092924590', '1092924588', '1092924586', '1092924584', '1092924582', '1092924580', '1092924578', '1092924576', '1092924574', '1092924572', '1092924570', '1092924568', '1092924566', '1092924564', '1092924562', '1092924560', '1092924558', '1092924556', '1092924554', '1092924552', '1092924550', '1092924548', '1092924546', '1092924544', '1092924542', '1092924540', '1092924538', '1092924536', '1092924534', '1013063925', '1013063923', '1013063921', '1013063919', '1013063917', '1013063915', '1013063913', '1013063911', '1013063909', '1013063907', '1013063905', '1013063903', '1013063901', '1013063899', '1013063897', '1013063895', '1013063893', '1013063891', '1071928498', '1071928470', '1071928468', '1071928452', '1071928448', '1071928446', '1071928444', '1071928442', '1071928438', '1070064170', '1064842673', '1063822632', '1063822630', '1060605271', '1048219054', '1048219052', '1048219024', '1048219020', '1048219018', '1048219016', '1048219014', '1048219012', '1048219010', '1048219008', '1048219006', '356463744', '356463742', '356463740', '356463738', '356463736', '356463734', '356463732', '356463730', '356463728', '356463726', '315140571', '290583635', '259191236', '242800783', '224985951', '224985949', '224985947', '224985945', '224985943', '224985941', '224985939', '224985937', '224985935', '224985933', '224985931', '224985929', '224985927', '224985925', '224985923', '224985921', '224985919', '224985917', '224985915', '224985913', '224985911', '224985909', '224985907', '224985905', '224985903', '224985901', '224985899', '224985897', '224985895', '224985893', '224985891', '224985889', '224985888', '224985886', '224985884', '224985882', '224985881', '224985879', '224985877', '224985875', '224985873', '224985871', '224985869', '224985867', '224985865', '224985863', '224985861', '224985859', '224985857', '917546429', '126362780', '1037240811', '1031499322', '1002155697', '1002155695', '1002155693', '1002155691', '1002155689', '1002155687', '1002155685', '1002155683', '1002155681', '1002155679', '1002155677', '1002155675', '1002155673', '1002155671', '1002155669', '1002155667', '1002155665', '1002155662', '1002155660', '1002155658', '1002155656', '1002155654', '1002155652', '1002155649', '1002155647', '1002155645', '1002155643', '1002155641', '1002155639', '1002155637', '1002155635', '1002155632', '1002155630', '1002155628', '1002155626', '1002155624', '1002155622', '1002155620', '1002155618', '1002155616', '1002155613', '1002155611', '1002155609', '1002155607', '1002155605', '1002155603', '1002155601', '1002155599', '1002155597', '1002155595', '1002155593', '1002155591', '1002155589', '1002155587', '1002155585', '1002155583', '1002155580', '1002155578', '1002155576', '1002155574', '1002155572', '1002155570', '1002155568', '1002155566', '1002155564', '1002155561', '1002155559', '1002155557', '1002155555', '1002155553', '1002155551', '1002155549', '1002155547', '1002155545', '1002155543', '1002155541', '1002155539', '1002155536', '1002155534', '1002155532', '1002155530', '1002155528', '1002155526', '1002155524', '1002155522', '1002155519', '1002155517', '1002155515', '1002155513', '1002155511', '1002155509', '1002155507', '1002155505', '1002155502', '1002155500', '1002155498', '1002155496', '1002155494', '1002155492', '1002155490', '1002155487', '1002155485', '1002155483', '1002155481', '1002155479', '1002155477', '1002155475', '1002155473', '1002155471', '1002155469', '1002155467', '1002155465', '1002155463', '1002155461', '1002155458', '1002155456', '1002155454', '1002155452', '1002155450', '1002155448', '1002155446', '1002155443', '1002155441', '1002155439', '1002155437', '1002155435', '1002155433', '1002155431', '1002155429', '1016928883', '1016928881', '1016928879', '1016928877', '1016928875', '1016928873', '1016928871', '1016928869', '1016928867', '1016928865', '1016928863', '1016928861', '1016928857', '1016928855', '1016928853', '1016928851', '1016928849', '1016928847', '1016928845', '1016928843', '1016928841', '1016928839', '1016928837', '1016928835', '1016928833', '1016928831', '1016928829', '1016928827', '1016928825', '1016928823', '1016928821', '1016928819', '1016928817', '1016928815', '1016928813', '1016928811', '1016928809', '1016928807', '1016928805', '1016928803', '1016928801', '1016928799', '1016928797', '1016928795', '1016928793', '1016928791', '1016928789', '1016928787', '1016928785', '1016928783', '1016928781', '1016928779', '1016928777', '1016928775', '1016928773', '1016928771', '1016928769', '1016928767', '1016928765', '1016928763', '1016928761', '1016928759', '1016928757', '1016928755', '1016928753', '1016928751', '1016928749', '1016928747', '1016928745', '1016928743', '1016928741', '1016928739', '1016928737', '1016928735', '1016928733', '1016928731', '1016928729', '1016928727', '1016928725', '1016928859', '658157530', '998454385', '998454383', '998454381', '908373767', '908373765', '908373763', '908373761', '908373759', '908373757', '908373755', '908373753', '908373751', '908373749', '908373747', '908373745', '908373743', '908373741', '908373739', '908373737', '908373735', '908373733', '667667984', '702075207', '702075205', '702075203', '702075201', '702075199', '702075197', '702075195', '884997218', '884997132', '659105120', '827025705', '827025703', '827025701', '827025699', '827025697', '827025695', '619326254', '619326220', '780736604', '780736602', '780736600', '784494921', '784494917', '784494913', '784494909', '784494906', '784494900', '784494895', '784494891', '784494887', '784494880', '784494876', '784494873', '784494869', '784494865', '784494861', '607344994', '747154798', '747154784', '747154782', '747154780', '747154778', '747154710', '745071380', '745071378', '745071376', '745071374', '745071372', '745071370', '699262882', '699262880', '699262878', '699262876', '699262874', '699262872', '699262870', '699262868', '699262866', '699262864', '699262862', '693297598', '693297596', '693297594', '693297592', '693297590', '693297588', '693297586', '693297584', '693297582', '693297580', '693297578', '693297576', '693297574', '693297572', '693297570', '693297568', '693297566', '693297564', '693297562', '693297560', '693297558', '693297556', '693297554', '693297552', '693297550', '693297548', '693297546', '693297544', '693297542', '693297540', '693297538', '693297536', '693297534', '693297532', '693297530', '693297528', '693297526', '693297524', '693297522', '693297520', '693297518', '693297516', '693297514', '693297512', '693297510', '693297508', '693297506', '598096439', '598096437', '598096435', '598096433', '598096431', '598096429', '598096427', '598096425', '598096423', '598096421', '598096419', '335058837', '335058835', '549442478', '549442476', '549442474', '549442472', '549442470', '549442468', '549442466', '549442464', '549442462', '549442460', '549442458', '549442456', '549442454', '549442452', '549442450', '549442448', '549442446', '549442444', '549442442', '549442440', '549442438', '549442436', '549442434', '549442432', '549442430', '549442428', '556822919', '556822916', '556822913', '556822910', '556822907', '556822904', '556822901', '556822898', '556822895', '556822892', '556822889', '556822886', '556822883', '556822880', '556822877', '556822874', '556822871', '556822868', '556822865', '556822862', '556822859', '556822856', '556822853', '556822850', '556822847', '556822844', '556822841', '556822838', '556822835', '556822832', '556822829', '556822826', '556822823', '556822821', '556822819', '556549543', '556549541', '556549539', '556549537', '556549535', '556549533', '556549531', '556549529', '556549527', '556549525', '556549523', '556549521', '556549519', '556549517', '556549515', '556549513', '556549511', '556549509', '556549507', '556549505', '556549503', '556549501', '556549499', '556549497', '556549495', '556549493', '556549491', '556549489', '556549487', '556549485', '556549483', '556549481', '556549479', '556549477', '556549475', '556549473', '556549471', '556549469', '556549467', '556549465', '556549463', '556549461', '556549459', '556549457', '556549455', '556549453', '556549451', '556549449', '556549447', '556549445', '556549443', '556549441', '556549439', '556549437', '556549435', '556549433', '556549431', '556549429', '556549427', '556549425', '556549423', '556549421', '556549419', '556549417', '556549415', '556549413', '556549411', '556549409', '556549407', '459928930', '459928928', '459928926', '459928924', '459928922', '459928730', '459928728', '459928726', '459928724', '407911259', '500049058', '500049057', '340512947', '340512945', '340512943', '340512941', '340512939', '340512937', '371533528', '371533526', '371533524', '371533522', '371533520', '371533518', '371533516', '371533514', '371533512', '371533510', '371533508', '384587318', '384583442', '384583440', '384583438', '384583436', '384583434', '384583432', '384583430', '384583428', '384583426', '384583424', '327366084', '379042182', '379042180', '379042178', '379042176', '379041014', '379041012', '379041010', '379040916', '379040914', '379040910', '379039348', '379039346', '379039010', '379038996', '379038988', '379038986', '379038502', '146742287', '146742285', '146742283', '146742281', '146742279', '146742277', '146742275', '146742273', '146742271', '146742269', '146742267', '146742265', '146742263', '146742261', '146742259', '146742257', '146742255', '146742253', '146742251', '146742249', '146742247', '146742245', '146742243', '146742241', '146742239', '146742237', '146742235', '146742233', '146742231', '146742229', '146742227', '146742225', '146742223', '146742221', '146742219', '146742217', '146742215', '146742213', '146742211', '146742209', '146742207', '146742205', '146742203', '146742201', '146742199', '146742197', '146742195', '146742193', '146742191', '146742189', '146742187', '146742185', '146742183', '146742181', '146742179', '146742177', '351589271', '351589269', '351589267', '351589265', '351589263', '351589261', '351589259', '351589257', '351589255', '351589253', '351589251', '351589249', '351589247', '351589245', '351589243', '351589241', '351589239', '351589237', '351589235', '351589233', '351589231', '351589229', '351589227', '351589225', '351589223', '351589221', '351589219', '351589217', '351589215', '351589213', '351584067', '351584065', '351584063', '351584061', '351584059', '351584057', '351584055', '351584053', '351584051', '31790485', '31790483', '18152518', '18152516', '18152514', '18152512', '18152510', '18152508', '18152504', '18152502', '18152428', '18152426', '18152424', '18152422', '13235681', '13235679', '13235677', '13235675', '13235673', '13235671', '13235669', '13235667', '13235665', '13235663', '13235661', '13235659', '13235657', '13235655', '13235321', '13235319', '13235317', '13235315', '13235313', '13235311', '13235309', '13235307', '13235305', '13235303', '13235301', '13235299', '13235297', '13235295', '13235293', '13235291', '13235289', '13235287', '13235285', '13235283', '13235281', '13235279', '13235277', '13235275', '13235273', '13235271', '13235269', '13235267', '13235265', '13235263', '13235261', '13235259', '13235257', '13235255', '13235253', '13235251', '13235249', '13235247', '13235245', '13235243', '13235241', '13235232', '13235230', '13235228', '13235226', '13235224', '13235222', '13235082', '13235080', '21388437', '21388333', '21388445', '21388341', '21388089', '21388061', '21388327', '21388323', '21388303', '21388273', '21388259', '21388255', '21388059', '4456795', '4456793', '4456688', '4456079', '4455871', '11877795', '11877793', '11877355', '11877353', '11877254', '11877252', '11877250', '21388447', '21388443', '21388441', '21388439', '21388435', '21388433', '21388431', '21388429', '21388427', '21388425', '21388423', '21388421', '21388419', '21388417', '21388415', '21388413', '21388411', '21388409', '21388407', '21388405', '21388403', '21388401', '21388399', '21388397', '21388395', '21388393', '21388391', '21388389', '21388387', '21388385', '21388383', '21388381', '21388379', '21388377', '21388375', '21388373', '21388371', '21388369', '21388367', '21388365', '21388363', '21388361', '21388359', '21388357', '21388355', '21388343', '21388339', '21388337', '21388335', '21388331', '21388329', '21388325', '21388321', '21388319', '21388317', '21388315', '21388313', '21388311', '21388309', '21388307', '21388305', '21388301', '21388299', '21388297', '21388295', '21388293', '21388291', '21388289', '21388287', '21388285', '21388283', '21388281', '21388279', '21388277', '21388275', '21388271', '21388269', '21388267', '21388265', '21388263', '21388261', '21388257', '21388253', '21388101', '21388099', '21388097', '21388095', '21388093', '21388091', '21388087', '21388085', '21388083', '21388081', '21388079', '21388075', '21388073', '21388071', '21388069', '21388067', '21388065', '21388063', '21388057', '21388055', '21388053', '21388051', '3063770', '18152506', '18152500', '4456126', '22798969', '22798793', '22798791', '22796277', '4467408', '4456884', '4456882', '4456879', '4456877', '4456863', '4456861', '4456844', '4456842', '4456799', '4456783', '4456781', '4456694', '4456692', '4456690', '4456661', '4456659', '4456647', '4456645', '4456629', '4456627', '4456132', '4456130', '4456128', '4456124', '4456107', '4456105', '4456096', '4456094', '4456081', '4456077', '4456075', '4455904', '4455902', '4455900', '4455879', '4455877', '4455873', '4455869', '4455865', '4455863', '4455829', '4455827', '4455813', '4455811'], 'TranslationSet': [{'From': '+Gentianaceae[Organism]', 'To': '\"Gentianaceae\"[Organism]'}], 'TranslationStack': [{'Term': 'matk[Gene Name]', 'Field': 'Gene Name', 'Count': '175240', 'Explode': 'N'}, {'Term': '\"Gentianaceae\"[Organism]', 'Field': 'Organism', 'Count': '123115', 'Explode': 'Y'}, 'AND'], 'QueryTranslation': 'matk[Gene Name] AND \"Gentianaceae\"[Organism]', 'WarningList': {'OutputMessage': [\"Unknown sort schema 'pub+date' ignored\"], 'PhraseIgnored': [], 'QuotedPhraseNotFound': []}}\n",
            "matk[Gene Name]+Campanula[Organism]\n",
            "{'Count': '744', 'RetMax': '744', 'RetStart': '0', 'IdList': ['1743040960', '1743040940', '1743040932', '1743040928', '1743040926', '1743040924', '1743040908', '1743040906', '1743040904', '1743040902', '1743040900', '1743040898', '1743040896', '1743040894', '1743040892', '1743040890', '1743040888', '1743040884', '1743040882', '1743040880', '1743040878', '1743040876', '1743040874', '1743040872', '1743040870', '1743040868', '1743040856', '1743040854', '1743040852', '1743040850', '1743040826', '1743040824', '1743040822', '1743040820', '1743040818', '1743040816', '1743040814', '1743040812', '1743040810', '1743040808', '1743040806', '1743040804', '1743040802', '1743040800', '1743040798', '1743040796', '1743040794', '1743040792', '1743040790', '1743040788', '1743040786', '1743040784', '1743040782', '1743040780', '1743040778', '1743040776', '1743040774', '1743040772', '1743040768', '1743040750', '1743040722', '1743040720', '1743040718', '1743040716', '1743040714', '1743040712', '1743040710', '1743040708', '1743040706', '1743040704', '1743040702', '1743040698', '1743040696', '1743040694', '1743040692', '1743040690', '1743040688', '1743040686', '1743040684', '1743040674', '1743040672', '1743040666', '1743040664', '1743040662', '1743040630', '1743040628', '1743040626', '1743040624', '1743040622', '1743040620', '1743040618', '1743040616', '1743040614', '1743040612', '1743040610', '1743040608', '1743040606', '1743040604', '1743040602', '1743040600', '1743040598', '1743040596', '1743040594', '1743040592', '1743040590', '1743040588', '1743040586', '1743040584', '1743040582', '1743040580', '1743040578', '1743040576', '1743040574', '1743040572', '1743040570', '1743040568', '1743040566', '1743040564', '1743040562', '1743040560', '1743040558', '1743040556', '1743040554', '1743040552', '1743040550', '1743040548', '1743040546', '1743040544', '1743040542', '1743040540', '1743040538', '1743040536', '1743040530', '1743040510', '1743040508', '1743040506', '1743040504', '1743040496', '1743040486', '1743040482', '1743040468', '1743040454', '1743040452', '1743040446', '1743040432', '1743040430', '1743040428', '1743040426', '1743040424', '1743040422', '1743040420', '1743040418', '1743040416', '1743040412', '1743040410', '1743040408', '1743040402', '1743040400', '1743040392', '1743040390', '1743040380', '1743040378', '1743040376', '1743040374', '1743040372', '1743040370', '1743040368', '1743040366', '1743040364', '1743040362', '1743040360', '1743040358', '1743040356', '1743040354', '1743040352', '1743040350', '1743040348', '1743040346', '1743040344', '1743040342', '1743040340', '1743040338', '1743040336', '1743040334', '1743040332', '1743040330', '1597476946', '1597476944', '1597476941', '1597476939', '1597476937', '1597476934', '1198275417', '1198274709', '1198274107', '1198273733', '1198273721', '1198273649', '1198273567', '1198273093', '1333443522', '1333443520', '844175433', '844175349', '844175267', '844174907', '1351233175', '1335827433', '1335827334', '1335827175', '1328822664', '1328822468', '1328821966', '1283835031', '1283835028', '1283835026', '1283835024', '1283835021', '1283835019', '1283835016', '1283835013', '1283835011', '1283835008', '1283835004', '1283834462', '1283834460', '1283834458', '1283834456', '1283834454', '1283834452', '1283834450', '1283834448', '1283834446', '1283834444', '1283834442', '818943693', '1253560781', '1243026203', '1114636785', '1114636783', '1114636741', '1114636739', '1114636735', '1114636733', '1147669374', '1147669372', '1147669370', '1147669368', '1147669366', '1147669354', '1147669352', '1147669346', '1147669344', '1147669342', '1147669340', '1147669338', '1147669332', '1147669330', '1147669328', '1147669326', '1147669318', '1147669316', '1147669312', '1147669310', '1147669308', '1147669306', '1147669304', '1147669300', '1147669298', '1147669296', '1147669294', '1147669292', '1147669290', '1147669288', '1147669286', '1147669284', '1147669282', '1147669280', '1147669276', '1147669274', '1147669272', '1147669270', '1147669268', '1147669266', '1147669262', '1147669260', '1147669258', '1147669256', '1147669254', '1147669252', '1147669250', '1147669248', '1147669246', '1147669244', '1147669242', '1147669240', '1147669238', '1147669236', '1147669234', '1147669230', '1147669228', '1147669226', '1147669224', '1147669222', '1147669220', '1147669218', '1147669216', '1147669214', '1147669212', '1147669210', '1147669208', '1147669206', '1147669204', '1147669202', '1147669200', '1147669198', '1147669196', '1147669194', '1147669192', '1147669190', '1147669188', '1147669186', '1147669184', '1147669182', '1147669180', '1147669178', '1147669176', '1147669174', '1147669172', '1147669170', '1147669168', '1147669166', '1147669164', '1147669162', '1147669160', '1147669158', '1147669156', '1147669154', '1147669152', '1147669150', '1147669148', '1147669146', '1147669144', '1147669142', '1147669140', '1147669138', '1147669136', '1147669134', '1147669132', '1147669130', '1147669128', '1147669126', '1147669124', '1147669122', '1147669120', '1147669118', '1147669116', '1147669114', '1147669112', '1147669110', '1147669108', '1147669106', '1147669104', '1147669102', '1147669100', '1147669098', '1147669096', '1147669094', '1147669092', '1147669090', '1147669088', '1147669086', '1147669084', '1147669082', '1147669080', '1147669078', '1147669076', '1147669074', '1147669072', '1147669070', '1147669068', '1147669066', '1147669064', '1147669062', '1147669060', '1147669058', '1147669056', '1147669054', '1147669052', '1147669050', '1147669048', '1147669046', '1147669044', '1147669042', '1147669040', '1147669038', '1147669036', '1147669034', '1147669032', '1147669030', '1147669022', '1147669020', '1147669018', '1147669016', '1147669014', '1147669012', '1147669010', '1147669008', '1147669006', '1147669004', '1147669002', '1147669000', '1147668998', '1147668996', '1147668994', '1147668992', '1147668990', '1147668988', '1147668986', '1147668984', '1147668982', '1147668980', '1147668978', '1147668976', '1147668974', '1147668972', '1147668970', '1147668968', '1147668966', '1147668964', '1147668962', '1147668958', '1147668954', '1147668950', '1147668948', '1133407014', '1010923266', '1048218968', '197258064', '197258062', '197258060', '197258058', '197258056', '197258054', '197258050', '197258048', '197258046', '197258044', '197258042', '197258036', '197258034', '197258032', '197258022', '197258018', '197258016', '197258014', '197258010', '197257998', '197257992', '197257990', '197257980', '197257956', '197257954', '197257952', '197257950', '197257946', '197257944', '197257942', '197257932', '197257930', '197257928', '197257926', '197257924', '197257922', '197257918', '197257916', '197257914', '197257912', '197257910', '197257908', '197257896', '197257892', '197257864', '197257862', '197257860', '197257858', '197257856', '197257854', '315140345', '1039726862', '1000390992', '1000390991', '1000390990', '1000390989', '1000390988', '1000390987', '1000390986', '1000390985', '1000390984', '1000390983', '1000390982', '1000390981', '1000390980', '1000390979', '1000390978', '1000390977', '1000390976', '1000390975', '1000390974', '1000390973', '1000390972', '1000390971', '1000390970', '1000390969', '1000390968', '1000390967', '1000390966', '1000390965', '1000390964', '1000390963', '1000390962', '1000390961', '1000390960', '1000390959', '1000390958', '1000390957', '1000390956', '1000390955', '1000390954', '1000390953', '1000390952', '1000390951', '1000390950', '1000390949', '1000390948', '1000390947', '1000390946', '1000390945', '988047786', '988047784', '988047782', '988047780', '988047778', '757372807', '757372805', '757372803', '757372801', '757372799', '757372797', '757372795', '916438436', '667667972', '684629902', '607344982', '749111817', '744674068', '675272313', '615794359', '615794357', '615794355', '615794353', '615794351', '615794349', '615794347', '615794345', '615794343', '615794341', '615794339', '615794337', '615794335', '615794333', '615794331', '615794329', '615794327', '615794325', '615794323', '615794321', '615794319', '615794317', '615794315', '615794313', '615794311', '615794309', '615794307', '615794305', '615794303', '615794301', '615794299', '615794297', '615794295', '615794293', '615794291', '615794289', '615794287', '615794285', '615794283', '615794281', '615794279', '615794277', '615794275', '615794273', '615794271', '615794269', '615794267', '615794265', '615794263', '615794261', '615794259', '615794257', '615794255', '615794253', '615794251', '615794249', '615794247', '615794245', '615794243', '615794241', '615794239', '615794237', '615794235', '615794233', '615794231', '615794229', '615794227', '615794225', '615794223', '615794221', '615794219', '615794217', '615794215', '615794213', '615794211', '615794209', '615794207', '615794205', '615794203', '615794201', '615794199', '614497570', '614497568', '614497566', '614497564', '614497562', '614497560', '614497558', '614497556', '614497554', '614497552', '614497550', '614497548', '614497546', '614497544', '614497542', '614497540', '614497538', '614497536', '614497534', '614497532', '614497530', '614497528', '614497526', '614497524', '614497522', '614497520', '614497518', '614497516', '614497514', '614497512', '614497510', '614497508', '614497506', '614497504', '614497502', '614497500', '614497498', '614497496', '614497494', '614497492', '348014999', '348014997', '348014995', '348014993', '348014991', '348014989', '348014987', '348014985', '348014983', '348014981', '348014979', '348014977', '348014975', '348014973', '348014971', '348014969', '348014967', '348014965', '348014963', '348014961', '348014959', '348014957', '335353360', '542093951', '542093941', '459927546', '459927544', '459927542', '459927540', '459927538', '459927536', '459927534', '459927532', '459927530', '459927528', '533529055', '449840777', '449840773', '449840769', '449840767', '449840741', '449840739', '449840737', '340512843', '340512841', '371533216', '371533214', '406034596', '406034594', '379042358', '379041830', '379041732', '379041726', '379041208', '379041206', '379041204', '379041202', '379040856', '379040854', '379040852', '379039022', '379039018', '379039016', '379039014', '379037870', '22795953'], 'TranslationSet': [{'From': '+Campanula[Organism]', 'To': '\"Campanula\"[Organism]'}], 'TranslationStack': [{'Term': 'matk[Gene Name]', 'Field': 'Gene Name', 'Count': '175240', 'Explode': 'N'}, {'Term': '\"Campanula\"[Organism]', 'Field': 'Organism', 'Count': '7311', 'Explode': 'Y'}, 'AND'], 'QueryTranslation': 'matk[Gene Name] AND \"Campanula\"[Organism]', 'WarningList': {'OutputMessage': [\"Unknown sort schema 'pub+date' ignored\"], 'PhraseIgnored': [], 'QuotedPhraseNotFound': []}}\n",
            "{'Count': '744', 'RetMax': '744', 'RetStart': '0', 'IdList': ['1743040960', '1743040940', '1743040932', '1743040928', '1743040926', '1743040924', '1743040908', '1743040906', '1743040904', '1743040902', '1743040900', '1743040898', '1743040896', '1743040894', '1743040892', '1743040890', '1743040888', '1743040884', '1743040882', '1743040880', '1743040878', '1743040876', '1743040874', '1743040872', '1743040870', '1743040868', '1743040856', '1743040854', '1743040852', '1743040850', '1743040826', '1743040824', '1743040822', '1743040820', '1743040818', '1743040816', '1743040814', '1743040812', '1743040810', '1743040808', '1743040806', '1743040804', '1743040802', '1743040800', '1743040798', '1743040796', '1743040794', '1743040792', '1743040790', '1743040788', '1743040786', '1743040784', '1743040782', '1743040780', '1743040778', '1743040776', '1743040774', '1743040772', '1743040768', '1743040750', '1743040722', '1743040720', '1743040718', '1743040716', '1743040714', '1743040712', '1743040710', '1743040708', '1743040706', '1743040704', '1743040702', '1743040698', '1743040696', '1743040694', '1743040692', '1743040690', '1743040688', '1743040686', '1743040684', '1743040674', '1743040672', '1743040666', '1743040664', '1743040662', '1743040630', '1743040628', '1743040626', '1743040624', '1743040622', '1743040620', '1743040618', '1743040616', '1743040614', '1743040612', '1743040610', '1743040608', '1743040606', '1743040604', '1743040602', '1743040600', '1743040598', '1743040596', '1743040594', '1743040592', '1743040590', '1743040588', '1743040586', '1743040584', '1743040582', '1743040580', '1743040578', '1743040576', '1743040574', '1743040572', '1743040570', '1743040568', '1743040566', '1743040564', '1743040562', '1743040560', '1743040558', '1743040556', '1743040554', '1743040552', '1743040550', '1743040548', '1743040546', '1743040544', '1743040542', '1743040540', '1743040538', '1743040536', '1743040530', '1743040510', '1743040508', '1743040506', '1743040504', '1743040496', '1743040486', '1743040482', '1743040468', '1743040454', '1743040452', '1743040446', '1743040432', '1743040430', '1743040428', '1743040426', '1743040424', '1743040422', '1743040420', '1743040418', '1743040416', '1743040412', '1743040410', '1743040408', '1743040402', '1743040400', '1743040392', '1743040390', '1743040380', '1743040378', '1743040376', '1743040374', '1743040372', '1743040370', '1743040368', '1743040366', '1743040364', '1743040362', '1743040360', '1743040358', '1743040356', '1743040354', '1743040352', '1743040350', '1743040348', '1743040346', '1743040344', '1743040342', '1743040340', '1743040338', '1743040336', '1743040334', '1743040332', '1743040330', '1597476946', '1597476944', '1597476941', '1597476939', '1597476937', '1597476934', '1198275417', '1198274709', '1198274107', '1198273733', '1198273721', '1198273649', '1198273567', '1198273093', '1333443522', '1333443520', '844175433', '844175349', '844175267', '844174907', '1351233175', '1335827433', '1335827334', '1335827175', '1328822664', '1328822468', '1328821966', '1283835031', '1283835028', '1283835026', '1283835024', '1283835021', '1283835019', '1283835016', '1283835013', '1283835011', '1283835008', '1283835004', '1283834462', '1283834460', '1283834458', '1283834456', '1283834454', '1283834452', '1283834450', '1283834448', '1283834446', '1283834444', '1283834442', '818943693', '1253560781', '1243026203', '1114636785', '1114636783', '1114636741', '1114636739', '1114636735', '1114636733', '1147669374', '1147669372', '1147669370', '1147669368', '1147669366', '1147669354', '1147669352', '1147669346', '1147669344', '1147669342', '1147669340', '1147669338', '1147669332', '1147669330', '1147669328', '1147669326', '1147669318', '1147669316', '1147669312', '1147669310', '1147669308', '1147669306', '1147669304', '1147669300', '1147669298', '1147669296', '1147669294', '1147669292', '1147669290', '1147669288', '1147669286', '1147669284', '1147669282', '1147669280', '1147669276', '1147669274', '1147669272', '1147669270', '1147669268', '1147669266', '1147669262', '1147669260', '1147669258', '1147669256', '1147669254', '1147669252', '1147669250', '1147669248', '1147669246', '1147669244', '1147669242', '1147669240', '1147669238', '1147669236', '1147669234', '1147669230', '1147669228', '1147669226', '1147669224', '1147669222', '1147669220', '1147669218', '1147669216', '1147669214', '1147669212', '1147669210', '1147669208', '1147669206', '1147669204', '1147669202', '1147669200', '1147669198', '1147669196', '1147669194', '1147669192', '1147669190', '1147669188', '1147669186', '1147669184', '1147669182', '1147669180', '1147669178', '1147669176', '1147669174', '1147669172', '1147669170', '1147669168', '1147669166', '1147669164', '1147669162', '1147669160', '1147669158', '1147669156', '1147669154', '1147669152', '1147669150', '1147669148', '1147669146', '1147669144', '1147669142', '1147669140', '1147669138', '1147669136', '1147669134', '1147669132', '1147669130', '1147669128', '1147669126', '1147669124', '1147669122', '1147669120', '1147669118', '1147669116', '1147669114', '1147669112', '1147669110', '1147669108', '1147669106', '1147669104', '1147669102', '1147669100', '1147669098', '1147669096', '1147669094', '1147669092', '1147669090', '1147669088', '1147669086', '1147669084', '1147669082', '1147669080', '1147669078', '1147669076', '1147669074', '1147669072', '1147669070', '1147669068', '1147669066', '1147669064', '1147669062', '1147669060', '1147669058', '1147669056', '1147669054', '1147669052', '1147669050', '1147669048', '1147669046', '1147669044', '1147669042', '1147669040', '1147669038', '1147669036', '1147669034', '1147669032', '1147669030', '1147669022', '1147669020', '1147669018', '1147669016', '1147669014', '1147669012', '1147669010', '1147669008', '1147669006', '1147669004', '1147669002', '1147669000', '1147668998', '1147668996', '1147668994', '1147668992', '1147668990', '1147668988', '1147668986', '1147668984', '1147668982', '1147668980', '1147668978', '1147668976', '1147668974', '1147668972', '1147668970', '1147668968', '1147668966', '1147668964', '1147668962', '1147668958', '1147668954', '1147668950', '1147668948', '1133407014', '1010923266', '1048218968', '197258064', '197258062', '197258060', '197258058', '197258056', '197258054', '197258050', '197258048', '197258046', '197258044', '197258042', '197258036', '197258034', '197258032', '197258022', '197258018', '197258016', '197258014', '197258010', '197257998', '197257992', '197257990', '197257980', '197257956', '197257954', '197257952', '197257950', '197257946', '197257944', '197257942', '197257932', '197257930', '197257928', '197257926', '197257924', '197257922', '197257918', '197257916', '197257914', '197257912', '197257910', '197257908', '197257896', '197257892', '197257864', '197257862', '197257860', '197257858', '197257856', '197257854', '315140345', '1039726862', '1000390992', '1000390991', '1000390990', '1000390989', '1000390988', '1000390987', '1000390986', '1000390985', '1000390984', '1000390983', '1000390982', '1000390981', '1000390980', '1000390979', '1000390978', '1000390977', '1000390976', '1000390975', '1000390974', '1000390973', '1000390972', '1000390971', '1000390970', '1000390969', '1000390968', '1000390967', '1000390966', '1000390965', '1000390964', '1000390963', '1000390962', '1000390961', '1000390960', '1000390959', '1000390958', '1000390957', '1000390956', '1000390955', '1000390954', '1000390953', '1000390952', '1000390951', '1000390950', '1000390949', '1000390948', '1000390947', '1000390946', '1000390945', '988047786', '988047784', '988047782', '988047780', '988047778', '757372807', '757372805', '757372803', '757372801', '757372799', '757372797', '757372795', '916438436', '667667972', '684629902', '607344982', '749111817', '744674068', '675272313', '615794359', '615794357', '615794355', '615794353', '615794351', '615794349', '615794347', '615794345', '615794343', '615794341', '615794339', '615794337', '615794335', '615794333', '615794331', '615794329', '615794327', '615794325', '615794323', '615794321', '615794319', '615794317', '615794315', '615794313', '615794311', '615794309', '615794307', '615794305', '615794303', '615794301', '615794299', '615794297', '615794295', '615794293', '615794291', '615794289', '615794287', '615794285', '615794283', '615794281', '615794279', '615794277', '615794275', '615794273', '615794271', '615794269', '615794267', '615794265', '615794263', '615794261', '615794259', '615794257', '615794255', '615794253', '615794251', '615794249', '615794247', '615794245', '615794243', '615794241', '615794239', '615794237', '615794235', '615794233', '615794231', '615794229', '615794227', '615794225', '615794223', '615794221', '615794219', '615794217', '615794215', '615794213', '615794211', '615794209', '615794207', '615794205', '615794203', '615794201', '615794199', '614497570', '614497568', '614497566', '614497564', '614497562', '614497560', '614497558', '614497556', '614497554', '614497552', '614497550', '614497548', '614497546', '614497544', '614497542', '614497540', '614497538', '614497536', '614497534', '614497532', '614497530', '614497528', '614497526', '614497524', '614497522', '614497520', '614497518', '614497516', '614497514', '614497512', '614497510', '614497508', '614497506', '614497504', '614497502', '614497500', '614497498', '614497496', '614497494', '614497492', '348014999', '348014997', '348014995', '348014993', '348014991', '348014989', '348014987', '348014985', '348014983', '348014981', '348014979', '348014977', '348014975', '348014973', '348014971', '348014969', '348014967', '348014965', '348014963', '348014961', '348014959', '348014957', '335353360', '542093951', '542093941', '459927546', '459927544', '459927542', '459927540', '459927538', '459927536', '459927534', '459927532', '459927530', '459927528', '533529055', '449840777', '449840773', '449840769', '449840767', '449840741', '449840739', '449840737', '340512843', '340512841', '371533216', '371533214', '406034596', '406034594', '379042358', '379041830', '379041732', '379041726', '379041208', '379041206', '379041204', '379041202', '379040856', '379040854', '379040852', '379039022', '379039018', '379039016', '379039014', '379037870', '22795953'], 'TranslationSet': [{'From': '+Campanula[Organism]', 'To': '\"Campanula\"[Organism]'}], 'TranslationStack': [{'Term': 'matk[Gene Name]', 'Field': 'Gene Name', 'Count': '175240', 'Explode': 'N'}, {'Term': '\"Campanula\"[Organism]', 'Field': 'Organism', 'Count': '7311', 'Explode': 'Y'}, 'AND'], 'QueryTranslation': 'matk[Gene Name] AND \"Campanula\"[Organism]', 'WarningList': {'OutputMessage': [\"Unknown sort schema 'pub+date' ignored\"], 'PhraseIgnored': [], 'QuotedPhraseNotFound': []}}\n",
            " >> Done - entry database successfully established. Summary (without outgroups) was saved as Caltha_matk_stat_ingroup.csv\n",
            "Step 3:\n",
            " >> Efetch for each species of the given genera with the most entries for the given gene. This may take some time as well, I would answer some mails in the meantime ;-) \n",
            " The progress is ...\n",
            "                     taxID             genus  ... count outgroup\n",
            "Gentianaceae  Gentianaceae  Gentianaceae_gen  ...  1227     True\n",
            "Campanula        Campanula     Campanula_gen  ...   744     True\n",
            "\n",
            "[2 rows x 6 columns]\n",
            "['253623' '253622' '3449' 'Gentianaceae' 'Campanula']\n",
            "Updating the outgroup data...\n",
            "Gentiana zollingeri\n",
            "553064\n"
          ],
          "name": "stdout"
        },
        {
          "output_type": "stream",
          "text": [
            "/usr/local/lib/python3.6/dist-packages/pandas/core/indexing.py:205: SettingWithCopyWarning: \n",
            "A value is trying to be set on a copy of a slice from a DataFrame\n",
            "\n",
            "See the caveats in the documentation: http://pandas.pydata.org/pandas-docs/stable/user_guide/indexing.html#returning-a-view-versus-a-copy\n",
            "  self._setitem_with_indexer(indexer, value)\n"
          ],
          "name": "stderr"
        },
        {
          "output_type": "stream",
          "text": [
            "Campanula calcicola\n",
            "1241042\n",
            " >> Done - most recent fasta sequences were collected and successfully concatenated. It was saved in the file Caltha_matk.fasta and is proove for nexus conversion. Summary of used sequences was saved as Caltha_matk_data.csv. In addition the outgroup was added to the stat-file and saved as: Caltha_matk_stat.csv.\n",
            " >> NCBI mining finished. It took 0 min, 26 sec. The files are stored in the directory 2019_12_21_Caltha_matk.\n"
          ],
          "name": "stdout"
        }
      ]
    },
    {
      "cell_type": "markdown",
      "metadata": {
        "id": "n0DLOibEjy3w",
        "colab_type": "text"
      },
      "source": [
        "#4 ReSearch with different gene but same accessions\n",
        "This block uses the data which was previously produced on the server. If you want to upload the file you use, change `gene_name`and `gene_length` in 2.1, upload the file in 2.3 and finally run `ncbi_miner` in 3."
      ]
    },
    {
      "cell_type": "code",
      "metadata": {
        "id": "u_Zg6ODdjyCU",
        "colab_type": "code",
        "cellView": "form",
        "colab": {}
      },
      "source": [
        "#{display-mode: 'form'}\n",
        "#@markdown What is the name of your new gene?\n",
        "new_gene_name = 'rbcl' #@param {type:\"string\"}\n",
        "#@markdown Estimate the length of your new gene:\n",
        "new_gene_length = 750 #@param {type:\"number\"}\n",
        "#@markdown When did you perform the search for accessions for the old gene?\n",
        "date_of_old_search = \"2019-12-12\"#@param {type:\"date\"}\n",
        "date_underscore = date_of_old_search.replace('-', '_')\n",
        "\n",
        "old_file = f'{date_underscore}_{taxon_query}_{gene_name}/{taxon_query}_{gene_name}_stat.csv'"
      ],
      "execution_count": 0,
      "outputs": []
    },
    {
      "cell_type": "code",
      "metadata": {
        "id": "ff0X95nNmvmz",
        "colab_type": "code",
        "cellView": "form",
        "colab": {}
      },
      "source": [
        "#{display-mode: 'form'}\n",
        "#@markdown Run the search with new gene - old accessions (same parameters).\n",
        "ncbi_miner(taxon_query = taxon_query,\n",
        "               gene_name = new_gene_name,\n",
        "               gene_length = new_gene_length,\n",
        "               my_mail = my_mail,\n",
        "               my_API_key = my_API_key,\n",
        "               tree_resolution = tree_resolution,\n",
        "               length_tolerance_percent = length_tolerance_percent,\n",
        "               upper_tolerance = upper_tolerance,\n",
        "               search_limit = search_limit,\n",
        "               entries_per_genus = entries_per_genus,\n",
        "               entries_per_tax = entries_per_tax,\n",
        "               taxonlist_path = old_file,\n",
        "               random_mining = random_mining)\n",
        "#@markdown ---\n"
      ],
      "execution_count": 0,
      "outputs": []
    },
    {
      "cell_type": "markdown",
      "metadata": {
        "id": "IIqrAl76mPsE",
        "colab_type": "text"
      },
      "source": [
        "#5 Download\n",
        "After producing your data, you can download it all together. Date will be assumed to be today."
      ]
    },
    {
      "cell_type": "code",
      "metadata": {
        "id": "nonflVdjs_Bk",
        "colab_type": "code",
        "colab": {}
      },
      "source": [
        "#@title 5.1 Zip file for (Re)Search* {display-mode: 'form'}\n",
        "from datetime import datetime\n",
        "import shutil\n",
        "from google.colab import files\n",
        "#@markdown When did you perform the (re)search you want to download?\n",
        "date_of_search = \"2019-12-21\"#@param {type:\"date\"}\n",
        "date_uscore = date_of_search.replace('-', '_')\n",
        "#@markdown Search (3.) or  ReSearch (4.)?\n",
        "option = 'search' #@param ['search', 'research']\n",
        "\n",
        "if option == 'search':\n",
        "  zip_gene = gene_name\n",
        "else:\n",
        "  zip_gene = new_gene_name\n",
        "directory = f'{date_uscore}_{taxon_query}_{zip_gene}'\n",
        "folder = shutil.make_archive(directory, 'zip', directory)\n",
        "files.download(folder)\n",
        "\n",
        "\n",
        "#@markdown <br><br>The data you produced will be stored into a ZIP file and downloaded. <br> <br> *) Search and ReSearch store their files in different folders. Those would need to be downloaded subsequently.\n",
        "\n"
      ],
      "execution_count": 0,
      "outputs": []
    },
    {
      "cell_type": "markdown",
      "metadata": {
        "id": "G_BsxlXzuqvE",
        "colab_type": "text"
      },
      "source": [
        "#References\n",
        "<i>Cock PA, Antao T, Chang JT, Chapman BA, Cox CJ, Dalke A, Friedberg I, Hamelryck T, Kauff F, Wilczynski B and de Hoon MJL (2009):</i> Biopython - freely available Python tools for computational molecular biology and bioinformatics. Bioinformatics, 25, 1422-1423"
      ]
    },
    {
      "cell_type": "markdown",
      "metadata": {
        "id": "xkQoOeLJtEQB",
        "colab_type": "text"
      },
      "source": [
        "---\n",
        "Thank you for using the NCBI lumberjack, have fun with the sequences!<br>\n",
        "`Questions: thomas.huber@evobio.eu`"
      ]
    }
  ]
}