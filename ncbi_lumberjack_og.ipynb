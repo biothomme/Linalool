{
  "nbformat": 4,
  "nbformat_minor": 0,
  "metadata": {
    "colab": {
      "name": "ncbi_lumberjack_2.ipynb",
      "provenance": [],
      "collapsed_sections": [],
      "include_colab_link": true
    },
    "kernelspec": {
      "name": "python3",
      "display_name": "Python 3"
    }
  },
  "cells": [
    {
      "cell_type": "markdown",
      "metadata": {
        "id": "view-in-github",
        "colab_type": "text"
      },
      "source": [
        "<a href=\"https://colab.research.google.com/github/biothomme/Linalool/blob/master/ncbi_lumberjack_og.ipynb\" target=\"_parent\"><img src=\"https://colab.research.google.com/assets/colab-badge.svg\" alt=\"Open In Colab\"/></a>"
      ]
    },
    {
      "cell_type": "markdown",
      "metadata": {
        "id": "oTz6BHxh85rC",
        "colab_type": "text"
      },
      "source": [
        "#NCBI Lumberjack OG\n",
        "###Uppsala, Dec 2019\n",
        "Please refer to https://github.com/biothomme/Limonene/blob/master/ncbi_lumberjack_og.ipynb for the updated and licensed version of NCBI_Lumberjack",
        "\n"
      ]
    }
